{
 "cells": [
  {
   "cell_type": "markdown",
   "id": "17520990",
   "metadata": {},
   "source": [
    "<b>1. Create a function that takes an integer and returns a list from 1 to the given number, where:<br>\n",
    "1. If the number can be divided evenly by 4, amplify it by 10 (i.e. return 10 times the\n",
    "number).<br>\n",
    "2. If the number cannot be divided evenly by 4, simply return the number."
   ]
  },
  {
   "cell_type": "code",
   "execution_count": 4,
   "id": "f31ae070",
   "metadata": {},
   "outputs": [
    {
     "name": "stdout",
     "output_type": "stream",
     "text": [
      "25\n",
      "The apmlified list : [1, 2, 3, 40, 5, 6, 7, 80, 9, 10, 11, 120, 13, 14, 15, 160, 17, 18, 19, 200, 21, 22, 23, 240, 25]\n"
     ]
    }
   ],
   "source": [
    "def amplify(n):\n",
    "    return [i*10 if i%4 ==0 else i for i in range(1,n+1)]\n",
    "num = int(input())\n",
    "print(f\"The apmlified list : {amplify(num)}\")"
   ]
  },
  {
   "cell_type": "markdown",
   "id": "0e1eec2e",
   "metadata": {},
   "source": [
    "<b>2. Create a function that takes a list of numbers and return the number that&#39;s unique."
   ]
  },
  {
   "cell_type": "code",
   "execution_count": 8,
   "id": "27065dba",
   "metadata": {},
   "outputs": [
    {
     "name": "stdout",
     "output_type": "stream",
     "text": [
      "3 3 3 3 7 3 3 3\n",
      "unique([3, 3, 3, 3, 7, 3, 3, 3]) --> 7\n"
     ]
    }
   ],
   "source": [
    "def unique(arr):\n",
    "    k = arr[0]\n",
    "    for i in range(1,len(arr)):\n",
    "        if arr[i] != k:\n",
    "            return arr[i]\n",
    "arr = list(map(int,input().split()))\n",
    "print(f\"unique({arr}) --> {unique(arr)}\")"
   ]
  },
  {
   "cell_type": "markdown",
   "id": "9cb2a62b",
   "metadata": {},
   "source": [
    "<b>3. Your task is to create a Circle constructor that creates a circle with a radius provided by an\n",
    "argument. <br>The circles constructed must have two getters getArea() (PIr^2) and\n",
    "getPerimeter() (2PI*r) which give both respective areas and perimeter (circumference).\n",
    "    "
   ]
  },
  {
   "cell_type": "code",
   "execution_count": 15,
   "id": "f8db874b",
   "metadata": {},
   "outputs": [
    {
     "name": "stdout",
     "output_type": "stream",
     "text": [
      "380\n",
      "28\n"
     ]
    }
   ],
   "source": [
    "import math as m\n",
    "\n",
    "class Circle:\n",
    "    \n",
    "    def __init__(self,radius):\n",
    "        self.radius = radius\n",
    "        \n",
    "    def getArea(self):\n",
    "        print(round(m.pi * self.radius*self.radius))\n",
    "    \n",
    "    def getPerimeter(self):\n",
    "        print(round(m.pi*2*self.radius))\n",
    "        \n",
    " #Creating first object       \n",
    "circy = Circle(11)\n",
    "circy.getArea()\n",
    "#Creating second object\n",
    "circy =Circle(4.44)\n",
    "circy.getPerimeter()"
   ]
  },
  {
   "cell_type": "markdown",
   "id": "4ca561d6",
   "metadata": {},
   "source": [
    "<b>4. Create a function that takes a list of strings and return a list, sorted from shortest to longest."
   ]
  },
  {
   "cell_type": "code",
   "execution_count": 29,
   "id": "c96c4b09",
   "metadata": {},
   "outputs": [
    {
     "name": "stdout",
     "output_type": "stream",
     "text": [
      "Meta Amaazzon Apple Netflix Google Jio\n",
      "sorted_by_length -->> ['Jio', 'Meta', 'Apple', 'Google', 'Netflix', 'Amaazzon']\n"
     ]
    }
   ],
   "source": [
    "#Sorting by Using BuBBle Sort Algo\n",
    "def sorted_by_length(arr):\n",
    "    k = arr\n",
    "    for i in range(len(arr)):\n",
    "         for j in range(0, len(arr)-i-1):\n",
    "            if len(arr[j]) > len(arr[j+1]):\n",
    "                arr[j], arr[j+1] = arr[j+1], arr[j]\n",
    "    return k\n",
    "arr = input().split()\n",
    "print(f\"sorted_by_length -->> {sorted_by_length(arr)}\")"
   ]
  },
  {
   "cell_type": "markdown",
   "id": "65904f29",
   "metadata": {},
   "source": [
    "<b>5. Create a function that validates whether three given integers form a Pythagorean triplet. The\n",
    "sum of the squares of the two smallest integers must equal the square of the largest number to\n",
    "be validated."
   ]
  },
  {
   "cell_type": "code",
   "execution_count": 33,
   "id": "51f558cc",
   "metadata": {},
   "outputs": [
    {
     "name": "stdout",
     "output_type": "stream",
     "text": [
      "13 5 12\n",
      "is_triplet((13, 5, 12)) -->> True\n"
     ]
    }
   ],
   "source": [
    "def is_triplet(a,b,c):\n",
    "    lis = [a,b,c]\n",
    "    smallest = min(lis)\n",
    "    smaller = [i for i in lis if min(lis)<i<max(lis)]\n",
    "    if smallest**2 + smaller[0]**2 == max(lis) **2:\n",
    "        return True\n",
    "    else:\n",
    "        False\n",
    "a,b,c = map(int,input().split())\n",
    "print(f\"is_triplet({a,b,c}) -->> {is_triplet(a,b,c)}\")"
   ]
  }
 ],
 "metadata": {
  "kernelspec": {
   "display_name": "Python 3",
   "language": "python",
   "name": "python3"
  },
  "language_info": {
   "codemirror_mode": {
    "name": "ipython",
    "version": 3
   },
   "file_extension": ".py",
   "mimetype": "text/x-python",
   "name": "python",
   "nbconvert_exporter": "python",
   "pygments_lexer": "ipython3",
   "version": "3.8.8"
  }
 },
 "nbformat": 4,
 "nbformat_minor": 5
}
