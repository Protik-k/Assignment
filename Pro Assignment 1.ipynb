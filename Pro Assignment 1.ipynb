{
 "cells": [
  {
   "cell_type": "markdown",
   "id": "3f2041ae",
   "metadata": {},
   "source": [
    "<b>1.Write a Python program to print \"Hello Python\"?"
   ]
  },
  {
   "cell_type": "code",
   "execution_count": 1,
   "id": "c2d28c0c",
   "metadata": {},
   "outputs": [
    {
     "name": "stdout",
     "output_type": "stream",
     "text": [
      "Hello Python\n"
     ]
    }
   ],
   "source": [
    "print(\"Hello Python\")"
   ]
  },
  {
   "cell_type": "markdown",
   "id": "4465b95f",
   "metadata": {},
   "source": [
    "<b>2.Write a python program to do arithmetic operations addition and division?"
   ]
  },
  {
   "cell_type": "code",
   "execution_count": 6,
   "id": "4f0d45e9",
   "metadata": {
    "scrolled": true
   },
   "outputs": [
    {
     "name": "stdout",
     "output_type": "stream",
     "text": [
      "Addition of two number a and b is 50\n",
      "Division of two number a and b is 9.0\n"
     ]
    }
   ],
   "source": [
    "a,b = 45,5\n",
    "print(f\"Addition of two number a and b is {a+b}\\nDivision of two number a and b is {a/b}\")"
   ]
  },
  {
   "cell_type": "markdown",
   "id": "d3b04b6b",
   "metadata": {},
   "source": [
    "<b>3.Write a program to find area of triangle"
   ]
  },
  {
   "cell_type": "code",
   "execution_count": 9,
   "id": "a69f1800",
   "metadata": {},
   "outputs": [
    {
     "name": "stdout",
     "output_type": "stream",
     "text": [
      "Area of Triangle is 90\n"
     ]
    }
   ],
   "source": [
    "h = 12  #Height of trianle \n",
    "b = 15  #base of trianlge \n",
    "# formula for area of triangle\n",
    "area = (1/2)*b*h\n",
    "print(f\"Area of Triangle is {int(area)}\")"
   ]
  },
  {
   "cell_type": "markdown",
   "id": "73f700d9",
   "metadata": {},
   "source": [
    "<b>4.Write a Python program to swap two variable"
   ]
  },
  {
   "cell_type": "code",
   "execution_count": 11,
   "id": "c54a8180",
   "metadata": {},
   "outputs": [
    {
     "name": "stdout",
     "output_type": "stream",
     "text": [
      "Before swaping a=4 b=9\n",
      "After swapping a=9 b=4\n"
     ]
    }
   ],
   "source": [
    "a = 4 \n",
    "b = 9\n",
    "print(f\"Before swaping a={a} b={b}\")\n",
    "a,b = b,a  #code to swap two variable\n",
    "print(f\"After swapping a={a} b={b}\")"
   ]
  },
  {
   "cell_type": "markdown",
   "id": "574430b3",
   "metadata": {},
   "source": [
    "<b>5.Write a program to generate a random number?"
   ]
  },
  {
   "cell_type": "code",
   "execution_count": 14,
   "id": "1315beaf",
   "metadata": {},
   "outputs": [
    {
     "name": "stdout",
     "output_type": "stream",
     "text": [
      "k is a random variable 51\n"
     ]
    }
   ],
   "source": [
    "#to generate random variable we have to use random library\n",
    "import random as r\n",
    "k = r.randint(1,100)\n",
    "print(f\"k is a random variable {k}\")"
   ]
  }
 ],
 "metadata": {
  "kernelspec": {
   "display_name": "Python 3",
   "language": "python",
   "name": "python3"
  },
  "language_info": {
   "codemirror_mode": {
    "name": "ipython",
    "version": 3
   },
   "file_extension": ".py",
   "mimetype": "text/x-python",
   "name": "python",
   "nbconvert_exporter": "python",
   "pygments_lexer": "ipython3",
   "version": "3.8.8"
  }
 },
 "nbformat": 4,
 "nbformat_minor": 5
}
