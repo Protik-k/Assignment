{
 "cells": [
  {
   "cell_type": "markdown",
   "id": "17520990",
   "metadata": {},
   "source": [
    "<b>1. Write a Python program to Extract Unique values dictionary values?"
   ]
  },
  {
   "cell_type": "code",
   "execution_count": 1,
   "id": "f31ae070",
   "metadata": {},
   "outputs": [
    {
     "name": "stdout",
     "output_type": "stream",
     "text": [
      "dict_values(['Rishikesh', 'Badrinath', 'Gangotri', 'Yamunotri', 'Kedarnath', 'Tirupati', 'Kedarnath'])\n",
      "Unique Values: ['Rishikesh', 'Yamunotri', 'Tirupati', 'Kedarnath', 'Badrinath', 'Gangotri']\n"
     ]
    }
   ],
   "source": [
    "in_dict = {1:'Rishikesh',2:'Badrinath',3:'Gangotri',4:'Yamunotri',5:'Kedarnath',6:'Tirupati',7:'Kedarnath'}\n",
    "print(in_dict.values())\n",
    "print(f'Unique Values: {list(set(in_dict.values()))}')"
   ]
  },
  {
   "cell_type": "markdown",
   "id": "0e1eec2e",
   "metadata": {},
   "source": [
    "<b>2. Write a Python program to find the sum of all items in a dictionary?"
   ]
  },
  {
   "cell_type": "code",
   "execution_count": 3,
   "id": "27065dba",
   "metadata": {},
   "outputs": [
    {
     "name": "stdout",
     "output_type": "stream",
     "text": [
      "Sum of All items:  300\n"
     ]
    }
   ],
   "source": [
    "in_dict = {'Apple':10,'Mango':20,'Banana':30,'Guava':40,'PineApple':200}\n",
    "print('Sum of All items: ',sum(in_dict.values()))\n"
   ]
  },
  {
   "cell_type": "markdown",
   "id": "9cb2a62b",
   "metadata": {},
   "source": [
    "<b>3. Write a Python program to Merging two Dictionaries?"
   ]
  },
  {
   "cell_type": "code",
   "execution_count": 5,
   "id": "f8db874b",
   "metadata": {},
   "outputs": [
    {
     "name": "stdout",
     "output_type": "stream",
     "text": [
      "{'cousre_name': 'Ineuron', 'course_instructors': ['Sudhanshu Kumar', 'Krish Naik']}\n"
     ]
    }
   ],
   "source": [
    "course_details = {\n",
    "    'cousre_name':'Ineuron'\n",
    "}\n",
    "instructors = {\n",
    "    'course_instructors':['Sudhanshu Kumar','Krish Naik']\n",
    "}\n",
    "course_details.update(instructors)\n",
    "print(course_details)\n"
   ]
  },
  {
   "cell_type": "markdown",
   "id": "4ca561d6",
   "metadata": {},
   "source": [
    "<b>4. Write a Python program to convert key-values list to flat dictionary?"
   ]
  },
  {
   "cell_type": "code",
   "execution_count": 6,
   "id": "c96c4b09",
   "metadata": {},
   "outputs": [
    {
     "name": "stdout",
     "output_type": "stream",
     "text": [
      "{'A': 10, 'B': 20, 'C': 30, 'D': 40, 'E': 50, 'F': 60, 'G': 70, 'H': 80, 'I': 90, 'J': 100}\n"
     ]
    }
   ],
   "source": [
    "in_list = [('A',10),('B',20),('C',30),('D',40),('E',50),('F',60),('G',70),('H',80),('I',90),('J',100)]\n",
    "\n",
    "# Method #1\n",
    "dict(in_list)\n",
    "\n",
    "# Method #2\n",
    "out_dict = {}\n",
    "for ele in in_list:\n",
    "    out_dict[ele[0]] = ele[1]\n",
    "print(out_dict)"
   ]
  },
  {
   "cell_type": "markdown",
   "id": "65904f29",
   "metadata": {},
   "source": [
    "<b>5. 5.Write a Python program to insertion at the beginning in OrderedDict?"
   ]
  },
  {
   "cell_type": "code",
   "execution_count": 7,
   "id": "51f558cc",
   "metadata": {},
   "outputs": [
    {
     "name": "stdout",
     "output_type": "stream",
     "text": [
      "dict_one OrderedDict([('Apple', 'Iphone'), ('Microsoft', 'Windows'), ('Google', 'chrome')])\n",
      "dict_one OrderedDict([('Apple', 'Iphone'), ('Microsoft', 'Windows'), ('Google', 'chrome'), ('Tesla', 'SpaceX')])\n",
      "dict_one OrderedDict([('Tesla', 'SpaceX'), ('Apple', 'Iphone'), ('Microsoft', 'Windows'), ('Google', 'chrome')])\n"
     ]
    }
   ],
   "source": [
    "from collections import OrderedDict\n",
    "dict_one = OrderedDict({'Apple':'Iphone','Microsoft':'Windows','Google':'chrome'})\n",
    "print('dict_one',dict_one)\n",
    "dict_two = {'Tesla':'SpaceX'}\n",
    "dict_one.update(dict_two)\n",
    "print('dict_one',dict_one)\n",
    "dict_one.move_to_end('Tesla',last=False)\n",
    "print('dict_one',dict_one)"
   ]
  }
 ],
 "metadata": {
  "kernelspec": {
   "display_name": "Python 3",
   "language": "python",
   "name": "python3"
  },
  "language_info": {
   "codemirror_mode": {
    "name": "ipython",
    "version": 3
   },
   "file_extension": ".py",
   "mimetype": "text/x-python",
   "name": "python",
   "nbconvert_exporter": "python",
   "pygments_lexer": "ipython3",
   "version": "3.8.8"
  }
 },
 "nbformat": 4,
 "nbformat_minor": 5
}
