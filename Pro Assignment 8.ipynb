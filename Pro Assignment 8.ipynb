{
 "cells": [
  {
   "cell_type": "markdown",
   "id": "17520990",
   "metadata": {},
   "source": [
    "<b>1. Write a Python Program to Add two Matrices ?"
   ]
  },
  {
   "cell_type": "code",
   "execution_count": 1,
   "id": "f31ae070",
   "metadata": {},
   "outputs": [],
   "source": [
    "def add_two(a, b):\n",
    "    addi = [[]]\n",
    "    for i in range(len(a)):\n",
    "        for j in range(len(a[i])):\n",
    "            addi[i][j] = a[i][j]+b[i][j]"
   ]
  },
  {
   "cell_type": "markdown",
   "id": "0e1eec2e",
   "metadata": {},
   "source": [
    "<b>2. Write a Python Program to Multiply two Matrices ?"
   ]
  },
  {
   "cell_type": "code",
   "execution_count": 2,
   "id": "27065dba",
   "metadata": {},
   "outputs": [],
   "source": [
    "def mul(X,Y):\n",
    "    result = [[]]\n",
    "    for i in range(len(X)):\n",
    "        for j in range(len(Y[0])):\n",
    "            for k in range(len(Y)):\n",
    "                result[i][j] += X[i][k] * Y[k][j]\n",
    "    return result"
   ]
  },
  {
   "cell_type": "markdown",
   "id": "9cb2a62b",
   "metadata": {},
   "source": [
    "<b>3. Write a Python Program to transpose a Matrix"
   ]
  },
  {
   "cell_type": "code",
   "execution_count": 3,
   "id": "f8db874b",
   "metadata": {},
   "outputs": [],
   "source": [
    "def transpose(a):\n",
    "    return [[a[j][i] for j in range(len(a))] for i in range(len(a[0]))]\n"
   ]
  },
  {
   "cell_type": "markdown",
   "id": "4ca561d6",
   "metadata": {},
   "source": [
    "<b>4. Write a Python Program to sort Words in an Alphabatical Order ?"
   ]
  },
  {
   "cell_type": "code",
   "execution_count": 4,
   "id": "c96c4b09",
   "metadata": {},
   "outputs": [
    {
     "name": "stdout",
     "output_type": "stream",
     "text": [
      "data full ineuron kaprekar pratik science stack\n"
     ]
    }
   ],
   "source": [
    "def alsort(str1):\n",
    "    return \" \".join(sorted(str1.split()))\n",
    "print(alsort(\"ineuron full stack data science pratik kaprekar\"))"
   ]
  },
  {
   "cell_type": "markdown",
   "id": "65904f29",
   "metadata": {},
   "source": [
    "<b>5.  Write a Python Program to remove Punctuations From a String ?"
   ]
  },
  {
   "cell_type": "code",
   "execution_count": 7,
   "id": "51f558cc",
   "metadata": {},
   "outputs": [
    {
     "name": "stdout",
     "output_type": "stream",
     "text": [
      "\"Full Stack data-science!\" ~ineuron -->\"Pratik Kaprekar\"\n",
      "String Before removing punctiations: \"Full Stack data-science!\" ~ineuron -->\"Pratik Kaprekar\"\n",
      "After remvoing :Full Stack datascience ineuron Pratik Kaprekar\n"
     ]
    }
   ],
   "source": [
    "def remove_punc(in_string):\n",
    "    punctuations = '''!()-[]{};:'\"\\,<>./?@#$%^&*_~'''\n",
    "    out_string = ''\n",
    "    for ele in in_string:\n",
    "        if ele not in punctuations:\n",
    "            out_string += ele\n",
    "    return out_string\n",
    "\n",
    "strr = input()\n",
    "print(f\"String Before removing punctiations: {strr}\\nAfter remvoing :{remove_punc(strr)}\")    "
   ]
  }
 ],
 "metadata": {
  "kernelspec": {
   "display_name": "Python 3",
   "language": "python",
   "name": "python3"
  },
  "language_info": {
   "codemirror_mode": {
    "name": "ipython",
    "version": 3
   },
   "file_extension": ".py",
   "mimetype": "text/x-python",
   "name": "python",
   "nbconvert_exporter": "python",
   "pygments_lexer": "ipython3",
   "version": "3.8.8"
  }
 },
 "nbformat": 4,
 "nbformat_minor": 5
}
