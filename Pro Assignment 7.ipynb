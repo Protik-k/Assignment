{
 "cells": [
  {
   "cell_type": "markdown",
   "id": "17520990",
   "metadata": {},
   "source": [
    "<b>1.  Write a Python Program to find sum of Array ?"
   ]
  },
  {
   "cell_type": "code",
   "execution_count": 2,
   "id": "f31ae070",
   "metadata": {},
   "outputs": [
    {
     "name": "stdout",
     "output_type": "stream",
     "text": [
      "Enter the Array: 4 8 7 5 9 66\n",
      "Sum of array: 99\n"
     ]
    }
   ],
   "source": [
    "arr = list(map(int,input(\"Enter the Array: \").split()))\n",
    "\n",
    "print(f\"Sum of array: {sum(arr)}\")"
   ]
  },
  {
   "cell_type": "markdown",
   "id": "0e1eec2e",
   "metadata": {},
   "source": [
    "<b>2. Write a Python Program to find Largest element in an Array ?"
   ]
  },
  {
   "cell_type": "code",
   "execution_count": 3,
   "id": "27065dba",
   "metadata": {},
   "outputs": [
    {
     "name": "stdout",
     "output_type": "stream",
     "text": [
      "Largest element 74.2\n"
     ]
    }
   ],
   "source": [
    "arr = [7, 8 , 55 , 44 , 74.2 ,8]\n",
    "print(f\"Largest element {max(arr)}\")"
   ]
  },
  {
   "cell_type": "markdown",
   "id": "9cb2a62b",
   "metadata": {},
   "source": [
    "<b>3. Write a Python Program for array rotation ?"
   ]
  },
  {
   "cell_type": "code",
   "execution_count": 6,
   "id": "f8db874b",
   "metadata": {},
   "outputs": [
    {
     "name": "stdout",
     "output_type": "stream",
     "text": [
      "[4, 5, 1, 2, 3]\n"
     ]
    }
   ],
   "source": [
    "#rotating array clock-wise\n",
    "def rotate(arr,times):\n",
    "    k = times%len(arr)\n",
    "    return arr[len(arr)-k:]+arr[:len(arr)-k]\n",
    "print(rotate([1,2,3,4,5],2))"
   ]
  },
  {
   "cell_type": "markdown",
   "id": "4ca561d6",
   "metadata": {},
   "source": [
    "<b>4. Write a Python Program to Split the array and add the first part to the end ?"
   ]
  },
  {
   "cell_type": "code",
   "execution_count": 7,
   "id": "c96c4b09",
   "metadata": {},
   "outputs": [
    {
     "name": "stdout",
     "output_type": "stream",
     "text": [
      "2 8 7 5 4 48\n",
      "Sum of firt and last element in array : 50\n"
     ]
    }
   ],
   "source": [
    "def sum_first_last(arr):\n",
    "    return arr[0] + arr[-1]\n",
    "\n",
    "arr = list(map(int,input().split()))\n",
    "print(f\"Sum of firt and last element in array : {sum_first_last(arr)}\")"
   ]
  },
  {
   "cell_type": "markdown",
   "id": "65904f29",
   "metadata": {},
   "source": [
    "<b>5. Write a Python Program to check if given array is Monotonic ?"
   ]
  },
  {
   "cell_type": "code",
   "execution_count": 8,
   "id": "51f558cc",
   "metadata": {},
   "outputs": [
    {
     "name": "stdout",
     "output_type": "stream",
     "text": [
      "array([1, 2, 3, 4, 5] -->True\n",
      "array([4, 2, 4, 5, 6, 1] -->False\n"
     ]
    }
   ],
   "source": [
    "def monotonic(arr):\n",
    "    if sorted(arr) == arr or sorted(arr,reverse=True) == arr:\n",
    "        return True\n",
    "    else:\n",
    "        return False\n",
    "print(f\"array({[1,2,3,4,5]} -->{monotonic([1,2,3,4,5])}\")\n",
    "print(f\"array({[4,2,4,5,6,1]} -->{monotonic([4,2,4,5,6,1])}\")"
   ]
  }
 ],
 "metadata": {
  "kernelspec": {
   "display_name": "Python 3",
   "language": "python",
   "name": "python3"
  },
  "language_info": {
   "codemirror_mode": {
    "name": "ipython",
    "version": 3
   },
   "file_extension": ".py",
   "mimetype": "text/x-python",
   "name": "python",
   "nbconvert_exporter": "python",
   "pygments_lexer": "ipython3",
   "version": "3.8.8"
  }
 },
 "nbformat": 4,
 "nbformat_minor": 5
}
