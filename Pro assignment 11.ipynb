{
 "cells": [
  {
   "cell_type": "markdown",
   "id": "250a90ec",
   "metadata": {},
   "source": [
    "<b>1. Write a Python program to find words which are greater than given length k?"
   ]
  },
  {
   "cell_type": "code",
   "execution_count": 6,
   "id": "4f7fa19e",
   "metadata": {},
   "outputs": [
    {
     "name": "stdout",
     "output_type": "stream",
     "text": [
      "Enter string of words: neuron full stack data science pratik kaprekar\n",
      "Enter value for lenght :5\n",
      "neuron science pratik kaprekar\n"
     ]
    }
   ],
   "source": [
    "def checkLength(words,l):\n",
    "    arr_of_words = words.split()\n",
    "    k= []\n",
    "    for i in range(len(arr_of_words)):\n",
    "        if len(arr_of_words[i]) >l:\n",
    "            k.append(arr_of_words[i])\n",
    "    return \" \".join(k)\n",
    "\n",
    "words = input(\"Enter string of words: \")\n",
    "val = int(input(\"Enter value for lenght :\"))\n",
    "print(checkLength(words,val))\n",
    "    "
   ]
  },
  {
   "cell_type": "markdown",
   "id": "974e8ddd",
   "metadata": {},
   "source": [
    "<b>2. Write a Python program for removing i-th character from a string?"
   ]
  },
  {
   "cell_type": "code",
   "execution_count": 13,
   "id": "e1a6291d",
   "metadata": {},
   "outputs": [
    {
     "name": "stdout",
     "output_type": "stream",
     "text": [
      "pratk\n",
      "pratik Karekar\n"
     ]
    }
   ],
   "source": [
    "def remove_letter(str1, i):\n",
    "    return str1[:i]+str1[i+1:] if i !=len(str1)-1 else str1[:i]\n",
    "print(remove_letter(\"pratik\",4))\n",
    "print(remove_letter(\"pratik Kaprekar\",9))"
   ]
  },
  {
   "cell_type": "markdown",
   "id": "e058a75e",
   "metadata": {},
   "source": [
    "<b> 3.Write a Python program to split and join a string?"
   ]
  },
  {
   "cell_type": "code",
   "execution_count": 14,
   "id": "fc31c98f",
   "metadata": {},
   "outputs": [
    {
     "name": "stdout",
     "output_type": "stream",
     "text": [
      "pratik Kaprekar data science python assign\n",
      "['pratik', 'Kaprekar', 'data', 'science', 'python', 'assign']\n",
      "pratik Kaprekar data science python assign\n"
     ]
    }
   ],
   "source": [
    "string = input()\n",
    "k = string.split()\n",
    "print(k)\n",
    "print(\" \".join(k))"
   ]
  },
  {
   "cell_type": "markdown",
   "id": "d36d0c36",
   "metadata": {},
   "source": [
    "<b>4. Write a Python to check if a given string is binary string or not?"
   ]
  },
  {
   "cell_type": "code",
   "execution_count": 15,
   "id": "2264f498",
   "metadata": {},
   "outputs": [
    {
     "name": "stdout",
     "output_type": "stream",
     "text": [
      "0011101\n",
      "0011101 is a binary String\n"
     ]
    }
   ],
   "source": [
    "def check_bin(strr):\n",
    "    for i in strr:\n",
    "        if i =='1' or i=='0':\n",
    "            continue\n",
    "        else:\n",
    "            return False\n",
    "    return True\n",
    "\n",
    "strr = input()\n",
    "if check_bin(strr):\n",
    "    print(f\"{strr} is a binary String\")\n",
    "else:\n",
    "    print(f\"{strr} is not a binary String\")\n",
    "        "
   ]
  },
  {
   "cell_type": "markdown",
   "id": "974db699",
   "metadata": {},
   "source": [
    "<b>5 . Write a Python program to find uncommon words from two Strings?"
   ]
  },
  {
   "cell_type": "code",
   "execution_count": 17,
   "id": "648291fa",
   "metadata": {},
   "outputs": [
    {
     "name": "stdout",
     "output_type": "stream",
     "text": [
      "Enter First String: pratik kaprekar ineuron\n",
      "Enter Second String: pratik kishor kaprekar data science\n",
      "Uncommmon words are : \n",
      "data -- kishor -- science -- ineuron\n"
     ]
    }
   ],
   "source": [
    "def uncommon_words(str1,str2):\n",
    "    str1,str2 = set(str1.split()),set(str2.split())\n",
    "    return \" -- \".join((str1.union(str2)).difference(str1.intersection(str2)))\n",
    "\n",
    "str1 = input(\"Enter First String: \")\n",
    "str2 = input(\"Enter Second String: \")\n",
    "print(f\"Uncommmon words are : \\n{uncommon_words(str1,str2)}\")"
   ]
  },
  {
   "cell_type": "markdown",
   "id": "eb68469a",
   "metadata": {},
   "source": [
    "<b>6. Write a Python to find all duplicate characters in string?"
   ]
  },
  {
   "cell_type": "code",
   "execution_count": null,
   "id": "8cd0c03e",
   "metadata": {},
   "outputs": [],
   "source": []
  },
  {
   "cell_type": "markdown",
   "id": "6a2dbb52",
   "metadata": {},
   "source": [
    "<b>7.Write a Python Program to check if a string contains any special character?"
   ]
  },
  {
   "cell_type": "code",
   "execution_count": 18,
   "id": "8043c2f8",
   "metadata": {},
   "outputs": [
    {
     "name": "stdout",
     "output_type": "stream",
     "text": [
      "Enter the string: pratik kaprekar:full stack data-sciemce\n",
      "True\n"
     ]
    }
   ],
   "source": [
    "def chaeck_char(str1):\n",
    "    pl_chars = '[@_!#$%^&*()<>?/\\|}{~:]'\n",
    "    for i in str1:\n",
    "        if i in pl_chars:\n",
    "            return True\n",
    "    return False\n",
    "\n",
    "str1= input('Enter the string: ')\n",
    "print(chaeck_char(str1))"
   ]
  }
 ],
 "metadata": {
  "kernelspec": {
   "display_name": "Python 3",
   "language": "python",
   "name": "python3"
  },
  "language_info": {
   "codemirror_mode": {
    "name": "ipython",
    "version": 3
   },
   "file_extension": ".py",
   "mimetype": "text/x-python",
   "name": "python",
   "nbconvert_exporter": "python",
   "pygments_lexer": "ipython3",
   "version": "3.8.8"
  }
 },
 "nbformat": 4,
 "nbformat_minor": 5
}
