{
 "cells": [
  {
   "cell_type": "markdown",
   "id": "26dc9386",
   "metadata": {},
   "source": [
    "<b>1. Write a Python Program to Find the Factorial of a Number?"
   ]
  },
  {
   "cell_type": "code",
   "execution_count": 4,
   "id": "1fbd6031",
   "metadata": {},
   "outputs": [
    {
     "name": "stdout",
     "output_type": "stream",
     "text": [
      "-24 8 5\n",
      "Invalid Input\n",
      "Factorial of 8 is 40320\n",
      "Factorial of 5 is 120\n"
     ]
    }
   ],
   "source": [
    "def factorial(n):\n",
    "    fact = 1\n",
    "    if n==1:\n",
    "        return 1\n",
    "    elif n==0:\n",
    "        return 0\n",
    "    elif n <1:\n",
    "        return \"Invalid input\"\n",
    "    for i in range(2,n+1):\n",
    "        fact *= i\n",
    "    return fact\n",
    "f = list(map(int,input().split()))\n",
    "for i in f:\n",
    "    if i >0:\n",
    "        print(f\"Factorial of {i} is {factorial(i)}\")\n",
    "    else:\n",
    "        print(\"Invalid Input\")"
   ]
  },
  {
   "cell_type": "markdown",
   "id": "cffe7ab1",
   "metadata": {},
   "source": [
    "<b>2. Write a Python Program to Display the multiplication Table?"
   ]
  },
  {
   "cell_type": "code",
   "execution_count": 7,
   "id": "22eb61f9",
   "metadata": {},
   "outputs": [
    {
     "name": "stdout",
     "output_type": "stream",
     "text": [
      "Enter value :8\n",
      "8\n",
      "16\n",
      "24\n",
      "32\n",
      "40\n",
      "48\n",
      "56\n",
      "64\n",
      "72\n",
      "80\n"
     ]
    }
   ],
   "source": [
    "n = int(input(\"Enter value :\"))\n",
    "for i in range(1,11):\n",
    "    print(i*n)"
   ]
  },
  {
   "cell_type": "markdown",
   "id": "11a75fb9",
   "metadata": {},
   "source": [
    "<b>3. Write a Python Program to Print the Fibonacci sequence?"
   ]
  },
  {
   "cell_type": "code",
   "execution_count": 4,
   "id": "fe515b6d",
   "metadata": {},
   "outputs": [
    {
     "name": "stdout",
     "output_type": "stream",
     "text": [
      "How many terms?15\n",
      "Fibonacci sequence:\n",
      "0 1 1 2 3 5 8 13 21 34 55 89 144 233 377 "
     ]
    }
   ],
   "source": [
    "nterms = int(input(\"How many terms?\"))\n",
    "n1, n2 = 0, 1\n",
    "count = 0\n",
    "if nterms == 1:\n",
    "    print(\"Fibonacci sequence upto\",nterms,\":\")\n",
    "    print(n1)\n",
    "else:\n",
    "    print(\"Fibonacci sequence:\")\n",
    "    while count < nterms:\n",
    "        print(n1,end=\" \")\n",
    "        nth = n1 + n2\n",
    "        n1 = n2\n",
    "        n2 = nth\n",
    "        count += 1"
   ]
  },
  {
   "cell_type": "markdown",
   "id": "2256d7e2",
   "metadata": {},
   "source": [
    "<b>4. Write a Python Program to Check Armstrong Number?"
   ]
  },
  {
   "cell_type": "code",
   "execution_count": 8,
   "id": "bfe46586",
   "metadata": {},
   "outputs": [
    {
     "name": "stdout",
     "output_type": "stream",
     "text": [
      "Enter value to check : 407\n",
      "407 it is a Armstrong Number\n"
     ]
    }
   ],
   "source": [
    "def isArmstrong(n):\n",
    "    add,temp = 0,n\n",
    "    while temp > 0:\n",
    "        digit = temp % 10\n",
    "        add += digit ** 3\n",
    "        temp //= 10\n",
    "    if n == add:\n",
    "        return True\n",
    "    else:\n",
    "        return False\n",
    "n = int(input(\"Enter value to check : \"))\n",
    "print(f\"{n} it is a Armstrong Number\" if isArmstrong(n) else f\"{n} is not a Armstrong Number\")"
   ]
  },
  {
   "cell_type": "markdown",
   "id": "acabc9e8",
   "metadata": {},
   "source": [
    "<b>5. Write a Python Program to Find Armstrong Number in an Interval?"
   ]
  },
  {
   "cell_type": "code",
   "execution_count": 13,
   "id": "98703905",
   "metadata": {},
   "outputs": [
    {
     "name": "stdout",
     "output_type": "stream",
     "text": [
      "Enter range17 442\n",
      "153 is a Armstrong Number\n",
      "370 is a Armstrong Number\n",
      "371 is a Armstrong Number\n",
      "407 is a Armstrong Number\n"
     ]
    }
   ],
   "source": [
    "l, r = map(int,input(\"Enter range\").split())\n",
    "for i in range(l,r+1):\n",
    "    if isArmstrong(i):\n",
    "        print(f\"{i} is a Armstrong Number\")\n"
   ]
  },
  {
   "cell_type": "markdown",
   "id": "400670a6",
   "metadata": {},
   "source": [
    "<b>6. Write a Python Program to Find the Sum of Natural Numbers?"
   ]
  },
  {
   "cell_type": "code",
   "execution_count": 14,
   "id": "64e32bd3",
   "metadata": {},
   "outputs": [
    {
     "name": "stdout",
     "output_type": "stream",
     "text": [
      "Enter range : 41 152\n",
      "Sum of Numbers is : 10808\n"
     ]
    }
   ],
   "source": [
    "l, r = map(int,input(\"Enter range : \").split())\n",
    "s = 0\n",
    "for i in range(l,r+1):\n",
    "    s += i\n",
    "print(f\"Sum of Numbers is : {s}\")"
   ]
  }
 ],
 "metadata": {
  "kernelspec": {
   "display_name": "Python 3",
   "language": "python",
   "name": "python3"
  },
  "language_info": {
   "codemirror_mode": {
    "name": "ipython",
    "version": 3
   },
   "file_extension": ".py",
   "mimetype": "text/x-python",
   "name": "python",
   "nbconvert_exporter": "python",
   "pygments_lexer": "ipython3",
   "version": "3.8.8"
  }
 },
 "nbformat": 4,
 "nbformat_minor": 5
}
