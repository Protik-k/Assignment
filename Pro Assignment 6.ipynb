{
 "cells": [
  {
   "cell_type": "markdown",
   "id": "17520990",
   "metadata": {},
   "source": [
    "<b>1. Write a Python Program to Display Fibonacci Sequence Using Recursion?"
   ]
  },
  {
   "cell_type": "code",
   "execution_count": 4,
   "id": "f31ae070",
   "metadata": {},
   "outputs": [
    {
     "name": "stdout",
     "output_type": "stream",
     "text": [
      "8\n",
      "0 1 1 2 3 5 8 13 "
     ]
    }
   ],
   "source": [
    "def fibonacci(n):\n",
    "    if n <=1:\n",
    "        return n\n",
    "    else:\n",
    "        return (fibonacci(n-1) + fibonacci(n-2))\n",
    "num_terms = int(input())\n",
    "for i in range(num_terms):\n",
    "    print(fibonacci(i), end=\" \")"
   ]
  },
  {
   "cell_type": "markdown",
   "id": "0e1eec2e",
   "metadata": {},
   "source": [
    "<b>2. Write a Python Program to Find Factorial of Number Using Recursion?"
   ]
  },
  {
   "cell_type": "code",
   "execution_count": 1,
   "id": "27065dba",
   "metadata": {},
   "outputs": [
    {
     "name": "stdout",
     "output_type": "stream",
     "text": [
      "120\n"
     ]
    }
   ],
   "source": [
    "def fact(n):\n",
    "    if n==0 or n==1:\n",
    "        return 1\n",
    "    else:\n",
    "        return n*fact(n-1)\n",
    "print(fact(5))"
   ]
  },
  {
   "cell_type": "markdown",
   "id": "9cb2a62b",
   "metadata": {},
   "source": [
    "<b>3. Write a Python Program to calculate your Body Mass Index?"
   ]
  },
  {
   "cell_type": "code",
   "execution_count": 9,
   "id": "f8db874b",
   "metadata": {},
   "outputs": [
    {
     "name": "stdout",
     "output_type": "stream",
     "text": [
      "Enter Height in meters and Weight in KG: 1.8 70\n",
      "BMI index is 21.6\n"
     ]
    }
   ],
   "source": [
    "def bmi_index(hei,wei):\n",
    "    return round(wei/(hei**2),2)\n",
    "\n",
    "h,w = map(float,input(\"Enter Height in meters and Weight in KG: \").split())\n",
    "print(f\"BMI index is {bmi_index(h,w)}\")"
   ]
  },
  {
   "cell_type": "markdown",
   "id": "4ca561d6",
   "metadata": {},
   "source": [
    "<b>4. Write a Python Program to calculate the natural logarithm of any number?"
   ]
  },
  {
   "cell_type": "code",
   "execution_count": 17,
   "id": "c96c4b09",
   "metadata": {},
   "outputs": [
    {
     "name": "stdout",
     "output_type": "stream",
     "text": [
      "12\n",
      "2.485\n"
     ]
    }
   ],
   "source": [
    "import math\n",
    "n = int(input())\n",
    "print(round(math.log(n),3))"
   ]
  },
  {
   "cell_type": "markdown",
   "id": "65904f29",
   "metadata": {},
   "source": [
    "<b>5. Write a Python Program for cube sum of first n natural numbers?"
   ]
  },
  {
   "cell_type": "code",
   "execution_count": 15,
   "id": "51f558cc",
   "metadata": {},
   "outputs": [
    {
     "name": "stdout",
     "output_type": "stream",
     "text": [
      "100\n"
     ]
    }
   ],
   "source": [
    "def cube(n):\n",
    "    if n==1:\n",
    "        return 1\n",
    "    else:\n",
    "        return (n**3+cube(n-1))\n",
    "print(cube(4))"
   ]
  }
 ],
 "metadata": {
  "kernelspec": {
   "display_name": "Python 3",
   "language": "python",
   "name": "python3"
  },
  "language_info": {
   "codemirror_mode": {
    "name": "ipython",
    "version": 3
   },
   "file_extension": ".py",
   "mimetype": "text/x-python",
   "name": "python",
   "nbconvert_exporter": "python",
   "pygments_lexer": "ipython3",
   "version": "3.8.8"
  }
 },
 "nbformat": 4,
 "nbformat_minor": 5
}
