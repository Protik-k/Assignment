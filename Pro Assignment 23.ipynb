{
 "cells": [
  {
   "cell_type": "markdown",
   "id": "17520990",
   "metadata": {},
   "source": [
    "<b>1. Create a function that takes a number as an argument and returns True or False depending\n",
    "on whether the number is symmetrical or not. A number is symmetrical when it is the same as\n",
    "its reverse."
   ]
  },
  {
   "cell_type": "code",
   "execution_count": 2,
   "id": "f31ae070",
   "metadata": {},
   "outputs": [
    {
     "name": "stdout",
     "output_type": "stream",
     "text": [
      "121\n",
      "is_symmetrical(121) -->> True\n"
     ]
    }
   ],
   "source": [
    "def is_symmetrical(num):\n",
    "    return True if num == num[::-1] else False\n",
    "k = input()\n",
    "print(f\"is_symmetrical({k}) -->> {is_symmetrical(k)}\")"
   ]
  },
  {
   "cell_type": "markdown",
   "id": "0e1eec2e",
   "metadata": {},
   "source": [
    "<b>2. Given a string of numbers separated by a comma and space, return the product of the\n",
    "numbers."
   ]
  },
  {
   "cell_type": "code",
   "execution_count": 10,
   "id": "27065dba",
   "metadata": {},
   "outputs": [
    {
     "name": "stdout",
     "output_type": "stream",
     "text": [
      "1, 5, 6, 4\n",
      "multiply_num(\"1, 5, 6, 4\") -->> 120\n"
     ]
    }
   ],
   "source": [
    "def multiply_nums(str1):\n",
    "    nums = list(map(int,str1.split(\", \")))\n",
    "    mul = 1\n",
    "    for i in nums:\n",
    "        mul *= i\n",
    "    return mul\n",
    "\n",
    "str1 = input()\n",
    "print(f\"multiply_num(\\\"{str1}\\\") -->> {multiply_nums(str1)}\")  "
   ]
  },
  {
   "cell_type": "markdown",
   "id": "9cb2a62b",
   "metadata": {},
   "source": [
    "<b>3. Create a function that squares every digit of a number."
   ]
  },
  {
   "cell_type": "code",
   "execution_count": 2,
   "id": "f8db874b",
   "metadata": {},
   "outputs": [
    {
     "name": "stdout",
     "output_type": "stream",
     "text": [
      "9119\n",
      "square_digits(9119) -->> 811181\n"
     ]
    }
   ],
   "source": [
    "def square_digits(num):\n",
    "    sq = ''\n",
    "    for i in str(num):\n",
    "        sq += str(int(i)**2)\n",
    "    return int(sq)\n",
    "n = int(input())\n",
    "print(f\"square_digits({n}) -->> {square_digits(n)}\")"
   ]
  },
  {
   "cell_type": "markdown",
   "id": "4ca561d6",
   "metadata": {},
   "source": [
    "<b>4. Create a function that sorts a list and removes all duplicate items from it."
   ]
  },
  {
   "cell_type": "code",
   "execution_count": 5,
   "id": "c96c4b09",
   "metadata": {},
   "outputs": [
    {
     "name": "stdout",
     "output_type": "stream",
     "text": [
      "1 3 3 5 4 7 8 8 9 12 12 4 5 3 1 \n",
      "setify([1, 3, 3, 5, 4, 7, 8, 8, 9, 12, 12, 4, 5, 3, 1]) -->> [1, 3, 4, 5, 7, 8, 9, 12]\n"
     ]
    }
   ],
   "source": [
    "def setify(arr):\n",
    "    return sorted(set(arr))\n",
    "arr = list(map(int,input().split()))\n",
    "print(f\"setify({arr}) -->> {setify(arr)}\")"
   ]
  },
  {
   "cell_type": "markdown",
   "id": "65904f29",
   "metadata": {},
   "source": [
    "<b>5. "
   ]
  },
  {
   "cell_type": "code",
   "execution_count": 6,
   "id": "51f558cc",
   "metadata": {},
   "outputs": [
    {
     "name": "stdout",
     "output_type": "stream",
     "text": [
      "12345\n",
      "mean(12345) -->> 3\n"
     ]
    }
   ],
   "source": [
    "def mean(num):\n",
    "    s,l=0,len(str(num))\n",
    "    for i in str(num):\n",
    "        s += int(i)\n",
    "    return int(s/l)\n",
    "n = int(input())\n",
    "print(f\"mean({n}) -->> {mean(n)}\")"
   ]
  }
 ],
 "metadata": {
  "kernelspec": {
   "display_name": "Python 3",
   "language": "python",
   "name": "python3"
  },
  "language_info": {
   "codemirror_mode": {
    "name": "ipython",
    "version": 3
   },
   "file_extension": ".py",
   "mimetype": "text/x-python",
   "name": "python",
   "nbconvert_exporter": "python",
   "pygments_lexer": "ipython3",
   "version": "3.8.8"
  }
 },
 "nbformat": 4,
 "nbformat_minor": 5
}
