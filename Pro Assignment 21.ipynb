{
 "cells": [
  {
   "cell_type": "markdown",
   "id": "17520990",
   "metadata": {},
   "source": [
    "<b>1. Write a function that takes a list and a number as arguments. Add the number to the end of\n",
    "the list, then remove the first element of the list. The function should then return the updated\n",
    "list.\n",
    "    "
   ]
  },
  {
   "cell_type": "code",
   "execution_count": 4,
   "id": "f31ae070",
   "metadata": {},
   "outputs": [
    {
     "name": "stdout",
     "output_type": "stream",
     "text": [
      "Enter list: 1 25 2 4 58 4\n",
      "Enter Number:25\n",
      "Updated list : [25, 2, 4, 58, 4, 25]\n",
      "Enter list: \n",
      "Enter Number:25\n",
      "Updated list : No list has been selected\n"
     ]
    }
   ],
   "source": [
    "def next_in_line(arr, num):\n",
    "    if len(arr) != 0:\n",
    "        arr.pop(0)\n",
    "        arr.append(num)\n",
    "        return arr\n",
    "    else:\n",
    "        return \"No list has been selected\"\n",
    "for i in range(2):\n",
    "    arr = list(map(int,input(\"Enter list: \").split()))\n",
    "    num = int(input(\"Enter Number:\"))\n",
    "    print(f\"Updated list : {next_in_line(arr,num)}\")"
   ]
  },
  {
   "cell_type": "markdown",
   "id": "0e1eec2e",
   "metadata": {},
   "source": [
    "<b>2. Create the function that takes a list of dictionaries and returns the sum of people&#39;s budgets."
   ]
  },
  {
   "cell_type": "code",
   "execution_count": 7,
   "id": "27065dba",
   "metadata": {},
   "outputs": [
    {
     "name": "stdout",
     "output_type": "stream",
     "text": [
      "4400\n"
     ]
    }
   ],
   "source": [
    "def get_budgets(list_of_Dic):\n",
    "    bud = 0\n",
    "    for i in range(len(list_of_Dic)):\n",
    "        bud += list_of_Dic[i][\"budget\"]\n",
    "    return bud\n",
    "\n",
    "print(get_budgets([{\"budget\":2400},{\"budget\":2000}]))"
   ]
  },
  {
   "cell_type": "markdown",
   "id": "9cb2a62b",
   "metadata": {},
   "source": [
    "<b>3. Create a function that takes a string and returns a string with its letters in alphabetical order."
   ]
  },
  {
   "cell_type": "code",
   "execution_count": 8,
   "id": "f8db874b",
   "metadata": {},
   "outputs": [
    {
     "name": "stdout",
     "output_type": "stream",
     "text": [
      "abcd\n"
     ]
    }
   ],
   "source": [
    "def alphabet_soap(str1):\n",
    "    return \"\".join(sorted(str1))\n",
    "\n",
    "print(alphabet_soap(\"dcba\"))"
   ]
  },
  {
   "cell_type": "markdown",
   "id": "4ca561d6",
   "metadata": {},
   "source": [
    "<b>4. Create a function that accepts the principal p, the term in years t, the interest rate r, and the\n",
    "number of compounding periods per year n. The function returns the value at the end of term\n",
    "rounded to the nearest cent."
   ]
  },
  {
   "cell_type": "code",
   "execution_count": 20,
   "id": "c96c4b09",
   "metadata": {},
   "outputs": [
    {
     "name": "stdout",
     "output_type": "stream",
     "text": [
      "15399.26\n"
     ]
    }
   ],
   "source": [
    "def compund_interest(p,t,r,n):\n",
    "    for period in range(t):\n",
    "        amount = p*(pow((1+r/n), n*(period+1)))\n",
    "    return round(amount,2)\n",
    "print(compund_interest(3500,15,0.1,4))"
   ]
  },
  {
   "cell_type": "markdown",
   "id": "65904f29",
   "metadata": {},
   "source": [
    "<b>5. Write a function that takes a list of elements and returns only the integers."
   ]
  },
  {
   "cell_type": "code",
   "execution_count": 17,
   "id": "51f558cc",
   "metadata": {},
   "outputs": [
    {
     "name": "stdout",
     "output_type": "stream",
     "text": [
      "[1, 54, 234]\n"
     ]
    }
   ],
   "source": [
    "def return_only_integer(arr):\n",
    "    lis = []\n",
    "    for i in arr:\n",
    "        if type(i) == int:\n",
    "            lis.append(i) \n",
    "    return lis\n",
    "print(return_only_integer([1 , 54, 40.2,\"pratik\", \"kaprekar\", 234]))"
   ]
  }
 ],
 "metadata": {
  "kernelspec": {
   "display_name": "Python 3",
   "language": "python",
   "name": "python3"
  },
  "language_info": {
   "codemirror_mode": {
    "name": "ipython",
    "version": 3
   },
   "file_extension": ".py",
   "mimetype": "text/x-python",
   "name": "python",
   "nbconvert_exporter": "python",
   "pygments_lexer": "ipython3",
   "version": "3.8.8"
  }
 },
 "nbformat": 4,
 "nbformat_minor": 5
}
