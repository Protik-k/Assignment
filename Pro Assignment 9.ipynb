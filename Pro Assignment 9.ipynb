{
 "cells": [
  {
   "cell_type": "markdown",
   "id": "17520990",
   "metadata": {},
   "source": [
    "<b>1. Write a Python Program to check if the given number is a Disarium Number ?"
   ]
  },
  {
   "cell_type": "code",
   "execution_count": 12,
   "id": "f31ae070",
   "metadata": {},
   "outputs": [
    {
     "name": "stdout",
     "output_type": "stream",
     "text": [
      "True\n"
     ]
    }
   ],
   "source": [
    "def disarum(n):\n",
    "    k = 0\n",
    "    for i in range(len(str(n))):\n",
    "        k += int(str(n)[i])**(i+1)\n",
    "    return True if k == n else False\n",
    "print(disarum(135))\n",
    "        "
   ]
  },
  {
   "cell_type": "markdown",
   "id": "0e1eec2e",
   "metadata": {},
   "source": [
    "<b>2. .Write a Python Program to print all Disarium numbers between 1 to 100 ?"
   ]
  },
  {
   "cell_type": "code",
   "execution_count": 13,
   "id": "27065dba",
   "metadata": {},
   "outputs": [
    {
     "name": "stdout",
     "output_type": "stream",
     "text": [
      "1 2 3 4 5 6 7 8 9 89 "
     ]
    }
   ],
   "source": [
    "for i in range(1,101):\n",
    "      if disarum(i):\n",
    "            print(i,end=\" \")"
   ]
  },
  {
   "cell_type": "markdown",
   "id": "9cb2a62b",
   "metadata": {},
   "source": [
    "<b>3. Write a Python Program to check if the given number is Happy Number ?"
   ]
  },
  {
   "cell_type": "code",
   "execution_count": 17,
   "id": "f8db874b",
   "metadata": {},
   "outputs": [
    {
     "name": "stdout",
     "output_type": "stream",
     "text": [
      "False\n",
      "True\n"
     ]
    }
   ],
   "source": [
    "def isHappy(n):\n",
    "    if n == 1 or n == 7:\n",
    "        return True\n",
    "          \n",
    "    Sum, x = n, n\n",
    "    while Sum > 9:\n",
    "        Sum = 0\n",
    "          \n",
    "        while x > 0:\n",
    "            d = x % 10\n",
    "            Sum += d * d\n",
    "            x = int(x / 10)\n",
    "         \n",
    "        if Sum == 1:\n",
    "            return True\n",
    "              \n",
    "        x = Sum\n",
    "     \n",
    "    if Sum == 7:\n",
    "        return True\n",
    "          \n",
    "    return False\n",
    "print(isHappy(48))\n",
    "print(isHappy(13))"
   ]
  },
  {
   "cell_type": "markdown",
   "id": "4ca561d6",
   "metadata": {},
   "source": [
    "<b>4. Write a Python Program to print all Happy numbers between 1 and 100 ?\n"
   ]
  },
  {
   "cell_type": "code",
   "execution_count": 19,
   "id": "c96c4b09",
   "metadata": {},
   "outputs": [
    {
     "name": "stdout",
     "output_type": "stream",
     "text": [
      "Happy numbers between 1 to 100:\n",
      "1 7 10 13 19 23 28 31 32 44 49 68 70 79 82 86 91 94 97 100 "
     ]
    }
   ],
   "source": [
    "print(\"Happy numbers between 1 to 100:\")\n",
    "for i in range(1,101):\n",
    "    if isHappy(i):\n",
    "        print(i,end=\" \")"
   ]
  },
  {
   "cell_type": "markdown",
   "id": "65904f29",
   "metadata": {},
   "source": [
    "<b>5. Write a Python Program to determine whether the given number is a Harshad Number ?"
   ]
  },
  {
   "cell_type": "code",
   "execution_count": 15,
   "id": "51f558cc",
   "metadata": {},
   "outputs": [
    {
     "name": "stdout",
     "output_type": "stream",
     "text": [
      "Enter a Number: 6804\n",
      "6804 is a Harshad Number\n",
      "Enter a Number: 20\n",
      "20 is a Harshad Number\n"
     ]
    }
   ],
   "source": [
    "def checkHarshadNumber():\n",
    "    in_num = input('Enter a Number: ')\n",
    "    sum = 0\n",
    "    for item in range(len(in_num)):\n",
    "        sum = sum + int(in_num[item])\n",
    "    if int(in_num)%sum == 0:\n",
    "        print(f'{in_num} is a Harshad Number')\n",
    "    else:\n",
    "        print(f'{in_num} is a Not Harshad Number')\n",
    "        \n",
    "checkHarshadNumber()\n",
    "checkHarshadNumber()"
   ]
  }
 ],
 "metadata": {
  "kernelspec": {
   "display_name": "Python 3",
   "language": "python",
   "name": "python3"
  },
  "language_info": {
   "codemirror_mode": {
    "name": "ipython",
    "version": 3
   },
   "file_extension": ".py",
   "mimetype": "text/x-python",
   "name": "python",
   "nbconvert_exporter": "python",
   "pygments_lexer": "ipython3",
   "version": "3.8.8"
  }
 },
 "nbformat": 4,
 "nbformat_minor": 5
}
