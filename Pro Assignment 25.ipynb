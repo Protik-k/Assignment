{
 "cells": [
  {
   "cell_type": "markdown",
   "id": "17520990",
   "metadata": {},
   "source": [
    "<b>1. Create a function that takes three integer arguments (a, b, c) and returns the amount of\n",
    "integers which are of equal value."
   ]
  },
  {
   "cell_type": "code",
   "execution_count": 5,
   "id": "f31ae070",
   "metadata": {},
   "outputs": [
    {
     "name": "stdout",
     "output_type": "stream",
     "text": [
      "Enter three Integers: 1 2 1\n",
      "2 is much integers are equal.\n"
     ]
    }
   ],
   "source": [
    "def equal(a,b,c):\n",
    "    if a==b and b==c:\n",
    "        return 3\n",
    "    elif  a==b:\n",
    "        return 2\n",
    "    elif a==c:\n",
    "        return 2\n",
    "    elif b==c:\n",
    "        return 2\n",
    "    else:\n",
    "        return 0\n",
    "a,b,c= map(int,input(\"Enter three Integers: \").split())\n",
    "print(f\"{equal(a,b,c)} is much integers are equal.\")"
   ]
  },
  {
   "cell_type": "markdown",
   "id": "0e1eec2e",
   "metadata": {},
   "source": [
    "<b>2. Write a function that converts a dictionary into a list of keys-values tuples."
   ]
  },
  {
   "cell_type": "code",
   "execution_count": 37,
   "id": "27065dba",
   "metadata": {},
   "outputs": [
    {
     "name": "stdout",
     "output_type": "stream",
     "text": [
      "aasssddddddjjjjoolllll\n",
      "This is Dictionary : {'a': 2, 's': 3, 'd': 6, 'j': 4, 'o': 2, 'l': 5}\n",
      "This is converted dictionaryt to key-values tuples:\n",
      "[('a', 2), ('d', 6), ('j', 4), ('l', 5), ('o', 2), ('s', 3)]\n"
     ]
    }
   ],
   "source": [
    "from collections import Counter\n",
    "def dict_to_list(dic):\n",
    "    k = sorted(dic)\n",
    "    lis = []\n",
    "    for i in k:\n",
    "        lis.append((i,dic[i]))\n",
    "    return lis\n",
    "n = dict(Counter(input()))\n",
    "print(f\"This is Dictionary : {n}\")\n",
    "print(f\"This is converted dictionaryt to key-values tuples:\\n{dict_to_list(n)}\")\n"
   ]
  },
  {
   "cell_type": "markdown",
   "id": "9cb2a62b",
   "metadata": {},
   "source": [
    "<b>3. Write a function that creates a dictionary with each (key, value) pair being the (lower case,\n",
    "upper case) versions of a letter, respectively."
   ]
  },
  {
   "cell_type": "code",
   "execution_count": 28,
   "id": "f8db874b",
   "metadata": {},
   "outputs": [
    {
     "name": "stdout",
     "output_type": "stream",
     "text": [
      "Enter letters: p r a t i k\n",
      "{'p': 'P', 'r': 'R', 'a': 'A', 't': 'T', 'i': 'I', 'k': 'K'}\n"
     ]
    }
   ],
   "source": [
    "def mapping(arr):\n",
    "    dic = dict()\n",
    "    for i in arr:\n",
    "        dic[i]=i.upper()\n",
    "    return dic\n",
    "arr = input(\"Enter letters: \").split()\n",
    "print(mapping(arr))"
   ]
  },
  {
   "cell_type": "markdown",
   "id": "4ca561d6",
   "metadata": {},
   "source": [
    "<b>4. Write a function, that replaces all vowels in a string with a specified vowel."
   ]
  },
  {
   "cell_type": "code",
   "execution_count": 17,
   "id": "c96c4b09",
   "metadata": {},
   "outputs": [
    {
     "name": "stdout",
     "output_type": "stream",
     "text": [
      "Enter string: pratik kaprekar aeiou\n",
      "Enter vowel : e\n",
      "pretek kepreker eeeee\n"
     ]
    }
   ],
   "source": [
    "def vow_replace(str1,vow):\n",
    "    v = 'aeiou'\n",
    "    ans = str1\n",
    "    for i in set(str1):\n",
    "        if i in v:\n",
    "            ans = ans.replace(i,vow)\n",
    "    return ans\n",
    "str1= input(\"Enter string: \")\n",
    "vow = input(\"Enter vowel : \")\n",
    "print(vow_replace(str1,vow))"
   ]
  },
  {
   "cell_type": "markdown",
   "id": "65904f29",
   "metadata": {},
   "source": [
    "<b>5. Create a function that takes a string as input and capitalizes a letter if its ASCII code is even\n",
    "and returns its lower case version if its ASCII code is odd. "
   ]
  },
  {
   "cell_type": "code",
   "execution_count": 22,
   "id": "51f558cc",
   "metadata": {},
   "outputs": [
    {
     "name": "stdout",
     "output_type": "stream",
     "text": [
      "Enter string : My Name is Pratik Kaprekar\n",
      "my Name is PRaTik kaPRekaR\n"
     ]
    }
   ],
   "source": [
    "def ascii_capitalize(str1):\n",
    "    for i in str1:\n",
    "        if ord(i) %2 == 0:\n",
    "            str1= str1.replace(i,i.upper())\n",
    "        else:\n",
    "            str1 = str1.replace(i,i.lower())\n",
    "    return str1\n",
    "str1 = input(\"Enter string : \")\n",
    "print(ascii_capitalize(str1))"
   ]
  }
 ],
 "metadata": {
  "kernelspec": {
   "display_name": "Python 3",
   "language": "python",
   "name": "python3"
  },
  "language_info": {
   "codemirror_mode": {
    "name": "ipython",
    "version": 3
   },
   "file_extension": ".py",
   "mimetype": "text/x-python",
   "name": "python",
   "nbconvert_exporter": "python",
   "pygments_lexer": "ipython3",
   "version": "3.8.8"
  }
 },
 "nbformat": 4,
 "nbformat_minor": 5
}
