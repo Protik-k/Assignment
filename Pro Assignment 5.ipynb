{
 "cells": [
  {
   "cell_type": "markdown",
   "id": "17520990",
   "metadata": {},
   "source": [
    "<b>1. Write a Python Program to Find LCM?"
   ]
  },
  {
   "cell_type": "code",
   "execution_count": 8,
   "id": "e460ff5e",
   "metadata": {},
   "outputs": [
    {
     "name": "stdout",
     "output_type": "stream",
     "text": [
      "4 8 6 2 3\n",
      "LCM of Numbers is 24.\n"
     ]
    }
   ],
   "source": [
    "def lcm_Of_Two(n1, n2):\n",
    "    if (n1 > n2):\n",
    "        num = n1\n",
    "        den = n2\n",
    "    else:\n",
    "        num = n2\n",
    "        den = n1\n",
    "    rem = num % den\n",
    "    while (rem != 0):\n",
    "        num = den\n",
    "        den = rem\n",
    "        rem = num % den\n",
    "    gcd = den\n",
    "    lcm = int(int(n1 * n2) / int(gcd))\n",
    "    return lcm\n",
    "nums = list(map(int,input().split()))\n",
    "num1 = nums[0]\n",
    "num2 = nums[1]\n",
    "lcm = lcm_Of_Two(num1, num2)\n",
    "\n",
    "for i in range(2, len(nums)):\n",
    "    lcm = lcm_Of_Two(lcm, nums[i])\n",
    "\n",
    "print(f\"LCM of Numbers is {lcm}.\")"
   ]
  },
  {
   "cell_type": "markdown",
   "id": "0e1eec2e",
   "metadata": {},
   "source": [
    "<b>2. Write a Python Program to Find HCF?"
   ]
  },
  {
   "cell_type": "code",
   "execution_count": 11,
   "id": "2bfd0db5",
   "metadata": {},
   "outputs": [
    {
     "name": "stdout",
     "output_type": "stream",
     "text": [
      "6\n"
     ]
    }
   ],
   "source": [
    "def hcf(n1,n2):\n",
    "    while(n2):\n",
    "        n1, n2 = n2, n1 % n2\n",
    "    return n1\n",
    "print(hcf(54,24))"
   ]
  },
  {
   "cell_type": "markdown",
   "id": "9cb2a62b",
   "metadata": {},
   "source": [
    "<b>3. Write a Python Program to Convert Decimal to Binary, Octal and Hexadecimal?"
   ]
  },
  {
   "cell_type": "code",
   "execution_count": 16,
   "id": "474b4091",
   "metadata": {},
   "outputs": [
    {
     "name": "stdout",
     "output_type": "stream",
     "text": [
      "Enter decimal Number: 15\n",
      "Its Binary Conversion : 1111  (0b1111)\n",
      "Its Octal Conversion : 17  (0o17)\n",
      "Its Hexadecimal Conversion : f  (0xf)\n"
     ]
    }
   ],
   "source": [
    "n = int(input(\"Enter decimal Number: \"))\n",
    "print(f\"Its Binary Conversion : {bin(n)[2:]}  ({bin(n)})\\nIts Octal Conversion : {oct(n)[2:]}  ({oct(n)})\\nIts Hexadecimal Conversion : {hex(n)[2:]}  ({hex(n)})\")"
   ]
  },
  {
   "cell_type": "markdown",
   "id": "4ca561d6",
   "metadata": {},
   "source": [
    "<b>4. Write a Python Program To Find ASCII value of a character?"
   ]
  },
  {
   "cell_type": "code",
   "execution_count": 18,
   "id": "1504e733",
   "metadata": {},
   "outputs": [
    {
     "name": "stdout",
     "output_type": "stream",
     "text": [
      "p\n",
      "112\n"
     ]
    }
   ],
   "source": [
    "char = input()\n",
    "print(ord(char))"
   ]
  },
  {
   "cell_type": "markdown",
   "id": "65904f29",
   "metadata": {},
   "source": [
    "<b>5. Write a Python Program to Make a Simple Calculator with 4 basic mathematical operations?"
   ]
  },
  {
   "cell_type": "code",
   "execution_count": 24,
   "id": "8083233a",
   "metadata": {},
   "outputs": [
    {
     "name": "stdout",
     "output_type": "stream",
     "text": [
      "Enter two numbers : 48 48\n",
      "Press 1 for addition , Press 2 for subtraction, Press 3 for multiplication, Press 4 for division1\n",
      "Addition of 48 and 48 is 96\n",
      "Enter 'p' to Continue calculation or enter '' to stopp\n",
      "Enter two numbers : 78 62\n",
      "Press 1 for addition , Press 2 for subtraction, Press 3 for multiplication, Press 4 for division4\n",
      "Division of 78 and 62 is 1.26\n",
      "Enter 'p' to Continue calculation or enter '' to stopp\n",
      "Enter two numbers : 78 52\n",
      "Press 1 for addition , Press 2 for subtraction, Press 3 for multiplication, Press 4 for division3\n",
      "Multiplication of 78 and 52 is 4056\n",
      "Enter 'p' to Continue calculation or enter '' to stopp\n",
      "Enter two numbers : 79 96\n",
      "Press 1 for addition , Press 2 for subtraction, Press 3 for multiplication, Press 4 for division2\n",
      "Subtraction of 79 and 96 is -17\n",
      "Enter 'p' to Continue calculation or enter '' to stop0\n"
     ]
    }
   ],
   "source": [
    "while True:\n",
    "    a,b = map(int,input(\"Enter two numbers : \").split())\n",
    "    n = int(input(\"Press 1 for addition , Press 2 for subtraction, Press 3 for multiplication, Press 4 for division\"))\n",
    "    if n== 1:\n",
    "            print(f\"Addition of { a} and { b} is {a+b}\")\n",
    "    elif n== 2:\n",
    "            print(f\"Subtraction of { a} and { b} is {a-b}\")\n",
    "    elif n== 3:\n",
    "            print(f\"Multiplication of { a} and { b} is {a*b}\")\n",
    "    elif n== 4 :\n",
    "            print(f\"Division of { a} and { b} is {round(a/b,2)}\")\n",
    "    n = input(\"Enter \\'p\\' to Continue calculation or enter \\'0\\' to stop\")\n",
    "    if n == '0':\n",
    "        break\n"
   ]
  }
 ],
 "metadata": {
  "kernelspec": {
   "display_name": "Python 3",
   "language": "python",
   "name": "python3"
  },
  "language_info": {
   "codemirror_mode": {
    "name": "ipython",
    "version": 3
   },
   "file_extension": ".py",
   "mimetype": "text/x-python",
   "name": "python",
   "nbconvert_exporter": "python",
   "pygments_lexer": "ipython3",
   "version": "3.8.8"
  }
 },
 "nbformat": 4,
 "nbformat_minor": 5
}
