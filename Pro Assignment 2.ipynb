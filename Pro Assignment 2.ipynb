{
 "cells": [
  {
   "cell_type": "markdown",
   "id": "b562d89d",
   "metadata": {},
   "source": [
    "<b>1.write a program to convert kilometer to miles?"
   ]
  },
  {
   "cell_type": "code",
   "execution_count": 3,
   "id": "7b01d482",
   "metadata": {},
   "outputs": [
    {
     "name": "stdout",
     "output_type": "stream",
     "text": [
      "Converting 12 kilometers into miles are 7.4565 mi.\n"
     ]
    }
   ],
   "source": [
    "kilometers = 12  #kilometers\n",
    "miles = kilometers *0.621371\n",
    "print(f\"Converting 12 kilometers into miles are {miles:.4f} mi.\")"
   ]
  },
  {
   "cell_type": "markdown",
   "id": "702674ad",
   "metadata": {},
   "source": [
    "<b>2.Write a program to convert celsius into fahrenheit."
   ]
  },
  {
   "cell_type": "code",
   "execution_count": 4,
   "id": "1c5f2292",
   "metadata": {},
   "outputs": [
    {
     "name": "stdout",
     "output_type": "stream",
     "text": [
      "48 degree Celsius are 118.4 degree Fahrenheit.\n"
     ]
    }
   ],
   "source": [
    "celsius = 48\n",
    "fahren = (celsius*(9/5))+32\n",
    "print(f\"48 degree Celsius are {fahren} degree Fahrenheit.\")"
   ]
  },
  {
   "cell_type": "markdown",
   "id": "e9d997c0",
   "metadata": {},
   "source": [
    "<b> 3.Write a program to display calendar?"
   ]
  },
  {
   "cell_type": "code",
   "execution_count": 8,
   "id": "cb276ced",
   "metadata": {},
   "outputs": [
    {
     "name": "stdout",
     "output_type": "stream",
     "text": [
      "    August 2022\n",
      "Mo Tu We Th Fr Sa Su\n",
      " 1  2  3  4  5  6  7\n",
      " 8  9 10 11 12 13 14\n",
      "15 16 17 18 19 20 21\n",
      "22 23 24 25 26 27 28\n",
      "29 30 31\n",
      "\n"
     ]
    }
   ],
   "source": [
    "import calendar as c\n",
    "print(c.month(2022,8))"
   ]
  },
  {
   "cell_type": "markdown",
   "id": "bfdccf87",
   "metadata": {},
   "source": [
    "<b>4.Write a program to solve quadratic equation?"
   ]
  },
  {
   "cell_type": "code",
   "execution_count": 18,
   "id": "d56ad1aa",
   "metadata": {},
   "outputs": [
    {
     "name": "stdout",
     "output_type": "stream",
     "text": [
      "Enter a b c values8 4 24\n",
      "The quadratic equation will be 8**2 +4x + 24.\n",
      "Positive roots are: 1.46 and -1.96\n"
     ]
    }
   ],
   "source": [
    "# taking input enter a, b, c values space separated format\n",
    "import math as m\n",
    "a,b ,c = list(map(int,input(\"Enter a b c values\").split()))\n",
    "if a != 0:\n",
    "    print(f\"The quadratic equation will be {a}**2 +{b}x + {c}.\")\n",
    "    d = m.sqrt(abs(b * b - 4 * a * c))\n",
    "    if d >0:\n",
    "        print(f\"Positive roots are: {(-b + d)/(2 * a):.2f} and {(-b - d)/(2 * a):.2f}\")\n",
    "    elif d ==0:\n",
    "        print(f\"Real and same roots are {-b/(2*a):.2f}.\")\n",
    "    else:\n",
    "        print(f\"Roots are complex : {(- b / (2 * a))+d:.2f})  and {(- b / (2 * a))-d:.2f}\")\n",
    "else:\n",
    "    print(\"Invalid input\")\n"
   ]
  },
  {
   "cell_type": "markdown",
   "id": "9c096fa2",
   "metadata": {},
   "source": [
    "<b>5.Write a program to swap two variables without temp?"
   ]
  },
  {
   "cell_type": "code",
   "execution_count": 20,
   "id": "cad64da9",
   "metadata": {},
   "outputs": [
    {
     "name": "stdout",
     "output_type": "stream",
     "text": [
      "a = 9 and b = 24\n"
     ]
    }
   ],
   "source": [
    "a, b = 5 , 9\n",
    "a, b = b, c\n",
    "print(f\"a = {a} and b = {b}\")"
   ]
  }
 ],
 "metadata": {
  "kernelspec": {
   "display_name": "Python 3",
   "language": "python",
   "name": "python3"
  },
  "language_info": {
   "codemirror_mode": {
    "name": "ipython",
    "version": 3
   },
   "file_extension": ".py",
   "mimetype": "text/x-python",
   "name": "python",
   "nbconvert_exporter": "python",
   "pygments_lexer": "ipython3",
   "version": "3.8.8"
  }
 },
 "nbformat": 4,
 "nbformat_minor": 5
}
