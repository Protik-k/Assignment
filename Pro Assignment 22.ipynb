{
 "cells": [
  {
   "cell_type": "markdown",
   "id": "17520990",
   "metadata": {},
   "source": [
    "<b>1. Create a function that takes three parameters where:\n",
    "<br>x is the start of the range (inclusive).\n",
    "<br> y is the end of the range (inclusive).\n",
    "<br>n is the divisor to be checked against."
   ]
  },
  {
   "cell_type": "code",
   "execution_count": 1,
   "id": "f31ae070",
   "metadata": {},
   "outputs": [
    {
     "name": "stdout",
     "output_type": "stream",
     "text": [
      "7 9 2\n",
      "list_operation((7, 9, 2)) --> [8]\n"
     ]
    }
   ],
   "source": [
    "def list_operation(s,e,d):\n",
    "    lis = []\n",
    "    for i in range(s,e+1):\n",
    "        if i%d == 0:\n",
    "            lis.append(i)\n",
    "    return lis\n",
    "s,e,d = map(int,input().split())\n",
    "print(f\"list_operation({s,e,d}) --> {list_operation(s,e,d)}\")"
   ]
  },
  {
   "cell_type": "markdown",
   "id": "0e1eec2e",
   "metadata": {},
   "source": [
    "<b>2. Create a function that takes in two lists and returns True if the second list follows the first list\n",
    "by one element, and False otherwise. In other words, determine if the second list is the first\n",
    "list shifted to the right by 1."
   ]
  },
  {
   "cell_type": "code",
   "execution_count": 2,
   "id": "27065dba",
   "metadata": {},
   "outputs": [
    {
     "name": "stdout",
     "output_type": "stream",
     "text": [
      "Enter First list Element: 1 2 3 4 5\n",
      "Enter Second list Element: 1 2 3 4 5\n",
      "simon_says([1, 2, 3, 4, 5], [1, 2, 3, 4, 5]) --> False\n"
     ]
    }
   ],
   "source": [
    "def simon_says(aar1,arr2):\n",
    "    return True if arr1[:len(arr1)-1] == arr2[1:] else False\n",
    "\n",
    "arr1 = list(map(int,input(\"Enter First list Element: \").split()))\n",
    "arr2 = list(map(int,input(\"Enter Second list Element: \").split()))\n",
    "\n",
    "print(f\"simon_says({arr1}, {arr2}) --> {simon_says(arr1,arr2)}\")"
   ]
  },
  {
   "cell_type": "markdown",
   "id": "9cb2a62b",
   "metadata": {},
   "source": [
    "<b>3. A group of friends have decided to start a secret society. The name will be the first letter of\n",
    "each of their names, sorted in alphabetical order.\n",
    "<br>Create a function that takes in a list of names and returns the name of the secret society."
   ]
  },
  {
   "cell_type": "code",
   "execution_count": 5,
   "id": "f8db874b",
   "metadata": {},
   "outputs": [
    {
     "name": "stdout",
     "output_type": "stream",
     "text": [
      "Adam Harry newt luna cho\n",
      "society_name(['Adam', 'Harry', 'newt', 'luna', 'cho']) -->> ACHLN\n"
     ]
    }
   ],
   "source": [
    "def society_name(arr):\n",
    "    k = [i[0].upper() for i in arr]\n",
    "    return \"\".join(sorted(k))\n",
    "\n",
    "names = input().split()\n",
    "print(f\"society_name({names}) -->> {society_name(names)}\")"
   ]
  },
  {
   "cell_type": "markdown",
   "id": "65904f29",
   "metadata": {},
   "source": [
    "<b>4. An isogram is a word that has no duplicate letters. Create a function that takes a string and\n",
    "returns either True or False depending on whether or not it&#39;s an &quot;isogram&quot;."
   ]
  },
  {
   "cell_type": "code",
   "execution_count": 17,
   "id": "51f558cc",
   "metadata": {},
   "outputs": [
    {
     "name": "stdout",
     "output_type": "stream",
     "text": [
      "pasSword\n",
      "is_isogram(\"pasSword\") -->> False\n"
     ]
    }
   ],
   "source": [
    "def is_isogram(str1):\n",
    "    k = str1.lower()\n",
    "    return True if len(set(k)) == len(str1) else False\n",
    "word = input()\n",
    "print(f\"is_isogram(\\\"{word}\\\") -->> {is_isogram(word)}\")\n",
    "        "
   ]
  },
  {
   "cell_type": "markdown",
   "id": "4ca561d6",
   "metadata": {},
   "source": [
    "<b>5. Create a function that takes a string and returns True or False, depending on whether the\n",
    "characters are in order or not."
   ]
  },
  {
   "cell_type": "code",
   "execution_count": 10,
   "id": "c96c4b09",
   "metadata": {},
   "outputs": [
    {
     "name": "stdout",
     "output_type": "stream",
     "text": [
      "xyzz\n",
      "is_in_order(\"xyzz\") -->> True\n"
     ]
    }
   ],
   "source": [
    "def is_in_order(str1):\n",
    "    return True if \"\".join(sorted(str1)) == str1 else False\n",
    "\n",
    "str1 = input()\n",
    "print(f\"is_in_order(\\\"{str1}\\\") -->> {is_in_order(str1)}\")"
   ]
  }
 ],
 "metadata": {
  "kernelspec": {
   "display_name": "Python 3",
   "language": "python",
   "name": "python3"
  },
  "language_info": {
   "codemirror_mode": {
    "name": "ipython",
    "version": 3
   },
   "file_extension": ".py",
   "mimetype": "text/x-python",
   "name": "python",
   "nbconvert_exporter": "python",
   "pygments_lexer": "ipython3",
   "version": "3.8.8"
  }
 },
 "nbformat": 4,
 "nbformat_minor": 5
}
